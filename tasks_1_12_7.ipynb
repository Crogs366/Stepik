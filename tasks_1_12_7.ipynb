{
 "cells": [
  {
   "cell_type": "code",
   "execution_count": null,
   "metadata": {},
   "outputs": [],
   "source": [
    "Дополнительная\n",
    "Паша очень любит кататься на общественном транспорте, а получая билет, сразу проверяет, счастливый ли ему попался. Билет считается счастливым, если сумма первых трех цифр совпадает с суммой последних трех цифр номера билета.\n",
    "\n",
    "Однако Паша очень плохо считает в уме, поэтому попросил вас написать программу, которая проверит равенство сумм и выведет \"Счастливый\", если суммы совпадают, и \"Обычный\", если суммы различны.\n",
    "\n",
    "На вход программе подаётся строка из шести цифр.\n",
    "\n",
    "Выводить нужно только слово \"Счастливый\" или \"Обычный\", с большой буквы."
   ]
  },
  {
   "cell_type": "code",
   "execution_count": 1,
   "metadata": {},
   "outputs": [
    {
     "output_type": "stream",
     "name": "stdout",
     "text": "Счастливый\n"
    }
   ],
   "source": [
    "a = int(input())\n",
    "c6 = a % 10\n",
    "c5 = a % 100  // 10\n",
    "c4 = a % 1000  // 100\n",
    "c3 = a % 10000  // 1000\n",
    "c2 = a % 100000  // 10000\n",
    "c1 = a % 1000000 // 100000\n",
    "if (c1 + c2 + c3) == (c4 + c5 + c6):\n",
    "    print('Счастливый')\n",
    "else:\n",
    "    print('Обычный')"
   ]
  }
 ],
 "metadata": {
  "language_info": {
   "codemirror_mode": {
    "name": "ipython",
    "version": 3
   },
   "file_extension": ".py",
   "mimetype": "text/x-python",
   "name": "python",
   "nbconvert_exporter": "python",
   "pygments_lexer": "ipython3",
   "version": "3.8.2-final"
  },
  "orig_nbformat": 2,
  "kernelspec": {
   "name": "python38232bit3db169014aea48db84573a3599a11904",
   "display_name": "Python 3.8.2 32-bit"
  }
 },
 "nbformat": 4,
 "nbformat_minor": 2
}