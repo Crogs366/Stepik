{
 "cells": [
  {
   "cell_type": "code",
   "execution_count": null,
   "metadata": {},
   "outputs": [],
   "source": [
    "#Напишите программу, которая принимает на вход список чисел в одной строке и выводит на экран в одну строку значения, которые повторяются в нём более одного раза.\n",
    "\n",
    "#Для решения задачи может пригодиться метод sort списка.\n",
    "\n",
    "#Выводимые числа не должны повторяться, порядок их вывода может быть произвольным."
   ]
  },
  {
   "cell_type": "code",
   "execution_count": 1,
   "metadata": {},
   "outputs": [
    {
     "output_type": "stream",
     "name": "stdout",
     "text": "2 4\n"
    }
   ],
   "source": [
    "list = [int(s) for s in input().split()]\n",
    "new_list = []\n",
    "for i in list:\n",
    "    cnt = list.count(i)\n",
    "    if (cnt > 1) and (i not in new_list):\n",
    "        new_list.append(i)\n",
    "new_list.sort()\n",
    "print(*new_list)"
   ]
  },
  {
   "cell_type": "code",
   "execution_count": null,
   "metadata": {},
   "outputs": [],
   "source": []
  }
 ],
 "metadata": {
  "language_info": {
   "codemirror_mode": {
    "name": "ipython",
    "version": 3
   },
   "file_extension": ".py",
   "mimetype": "text/x-python",
   "name": "python",
   "nbconvert_exporter": "python",
   "pygments_lexer": "ipython3",
   "version": "3.8.2-final"
  },
  "orig_nbformat": 2,
  "kernelspec": {
   "name": "python38232bit3db169014aea48db84573a3599a11904",
   "display_name": "Python 3.8.2 32-bit"
  }
 },
 "nbformat": 4,
 "nbformat_minor": 2
}