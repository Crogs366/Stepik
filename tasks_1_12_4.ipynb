{
 "cells": [
  {
   "cell_type": "code",
   "execution_count": null,
   "metadata": {},
   "outputs": [],
   "source": [
    "Жители страны Малевии часто экспериментируют с планировкой комнат. Комнаты бывают треугольные, прямоугольные и круглые. Чтобы быстро вычислять жилплощадь, требуется написать программу, на вход которой подаётся тип фигуры комнаты и соответствующие параметры, которая бы выводила площадь получившейся комнаты.\n",
    "Для числа π в стране Малевии используют значение 3.14.\n",
    "\n",
    "Формат ввода, который используют Малевийцы:\n",
    "\n",
    "треугольник\n",
    "a\n",
    "b\n",
    "c\n",
    "где a, b и c — длины сторон треугольника\n",
    "\n",
    "прямоугольник\n",
    "a\n",
    "b\n",
    "где a и b — длины сторон прямоугольника\n",
    "\n",
    "круг\n",
    "r\n",
    "где r — радиус окружности"
   ]
  },
  {
   "cell_type": "code",
   "execution_count": 2,
   "metadata": {},
   "outputs": [
    {
     "output_type": "stream",
     "name": "stdout",
     "text": "12.56\n"
    }
   ],
   "source": [
    "Figur = input()\n",
    "if Figur == 'треугольник':\n",
    "    a = int(input())\n",
    "    b = int(input())\n",
    "    c = int(input())\n",
    "    p = (a + b + c) / 2\n",
    "    print((p * (p - a) * (p - b) * (p - c)) ** 0.5)\n",
    "elif Figur == 'прямоугольник':\n",
    "    a = int(input())\n",
    "    b = int(input())\n",
    "    print(a * b)\n",
    "elif Figur == 'круг':\n",
    "    r = int(input())\n",
    "    P = 3.14\n",
    "    print(r ** 2 * P)"
   ]
  }
 ],
 "metadata": {
  "language_info": {
   "codemirror_mode": {
    "name": "ipython",
    "version": 3
   },
   "file_extension": ".py",
   "mimetype": "text/x-python",
   "name": "python",
   "nbconvert_exporter": "python",
   "pygments_lexer": "ipython3",
   "version": "3.8.2-final"
  },
  "orig_nbformat": 2,
  "kernelspec": {
   "name": "python38232bit3db169014aea48db84573a3599a11904",
   "display_name": "Python 3.8.2 32-bit"
  }
 },
 "nbformat": 4,
 "nbformat_minor": 2
}