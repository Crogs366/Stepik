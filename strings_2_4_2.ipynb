{
 "cells": [
  {
   "cell_type": "code",
   "execution_count": 1,
   "metadata": {},
   "outputs": [
    {
     "output_type": "stream",
     "name": "stdout",
     "text": "a4b2c1a2"
    }
   ],
   "source": [
    "genome = input()\n",
    "length = len(genome)\n",
    "count = 1\n",
    "for i in range(length): #last element\n",
    "    if i == (length-1):\n",
    "        print(genome[i] + str(count), end ='')\n",
    "    else:\n",
    "        if genome[i] == genome[i+1]:\n",
    "            count=count+1\n",
    "        else:\n",
    "            print(genome[i] + str(count), end='')\n",
    "            count = 1"
   ]
  },
  {
   "cell_type": "code",
   "execution_count": null,
   "metadata": {},
   "outputs": [],
   "source": []
  }
 ],
 "metadata": {
  "language_info": {
   "codemirror_mode": {
    "name": "ipython",
    "version": 3
   },
   "file_extension": ".py",
   "mimetype": "text/x-python",
   "name": "python",
   "nbconvert_exporter": "python",
   "pygments_lexer": "ipython3",
   "version": "3.8.2-final"
  },
  "orig_nbformat": 2,
  "kernelspec": {
   "name": "python38232bit3db169014aea48db84573a3599a11904",
   "display_name": "Python 3.8.2 32-bit"
  }
 },
 "nbformat": 4,
 "nbformat_minor": 2
}