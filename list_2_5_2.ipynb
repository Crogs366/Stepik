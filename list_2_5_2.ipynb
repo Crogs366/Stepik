{
 "cells": [
  {
   "cell_type": "code",
   "execution_count": null,
   "metadata": {},
   "outputs": [],
   "source": [
    "#Напишите программу, на вход которой подаётся список чисел одной строкой. Программа должна для каждого элемента этого списка вывести сумму двух его соседей. Для элементов списка, являющихся крайними, одним из соседей считается элемент, находящий на противоположном конце этого списка. Например, если на вход подаётся список \"1 3 5 6 10\", то на выход ожидается список \"13 6 9 15 7\" (без кавычек).\n",
    "\n",
    "#Если на вход пришло только одно число, надо вывести его же.\n",
    "\n",
    "#Вывод должен содержать одну строку с числами нового списка, разделёнными пробелом."
   ]
  },
  {
   "cell_type": "code",
   "execution_count": null,
   "metadata": {},
   "outputs": [],
   "source": [
    "list = [int(s) for s in input().split()]\n",
    "b = []\n",
    "new_list = []\n",
    "if len(list) == 1:\n",
    "    print(*list)\n",
    "else:\n",
    "    for i in range(len(list)): \n",
    "        if i == 0: #1 element\n",
    "            b = list[i+1] + list[-1]\n",
    "            new_list.append(b)\n",
    "            b = 0\n",
    "        elif i < (len(list))-1:\n",
    "            b = list[i+1] + list[i-1]\n",
    "            new_list.append(b)\n",
    "            b = 0\n",
    "        else: #last element\n",
    "            b = list[0] + list[i-1]\n",
    "            new_list.append(b)\n",
    "            b = 0\n",
    "            print(*new_list)"
   ]
  },
  {
   "cell_type": "code",
   "execution_count": null,
   "metadata": {},
   "outputs": [],
   "source": []
  }
 ],
 "metadata": {
  "language_info": {
   "codemirror_mode": {
    "name": "ipython",
    "version": 3
   },
   "file_extension": ".py",
   "mimetype": "text/x-python",
   "name": "python",
   "nbconvert_exporter": "python",
   "pygments_lexer": "ipython3",
   "version": "3.8.2-final"
  },
  "orig_nbformat": 2,
  "kernelspec": {
   "name": "python38232bit3db169014aea48db84573a3599a11904",
   "display_name": "Python 3.8.2 32-bit"
  }
 },
 "nbformat": 4,
 "nbformat_minor": 2
}