{
 "cells": [
  {
   "cell_type": "code",
   "execution_count": null,
   "metadata": {},
   "outputs": [],
   "source": [
    "Напишите функцию modify_list(l), которая принимает на вход список целых чисел, удаляет из него все нечётные значения, а чётные нацело делит на два. Функция не должна ничего возвращать, требуется только изменение переданного списка, например:"
   ]
  },
  {
   "cell_type": "code",
   "execution_count": 2,
   "metadata": {},
   "outputs": [
    {
     "output_type": "stream",
     "name": "stdout",
     "text": "[2, 4, 6]\n"
    }
   ],
   "source": [
    "l = [1,2,3,4,5,6]\n",
    "\n",
    "def modify_list(l):\n",
    "    list = l\n",
    "    lenght = len(list)\n",
    "    count = 0\n",
    "    while count < lenght:\n",
    "        count +=1\n",
    "        if l[0] % 2 == 1:\n",
    "            list.remove(list[0]) #remove odd\n",
    "        else:\n",
    "            list.append(list[0]/2)\n",
    "            list.remove(list[0])\n",
    "    for i, item in enumerate(list): #go int\n",
    "        list[i] = int(item)\n",
    "            \n",
    "modify_list(l)\n"
   ]
  }
 ],
 "metadata": {
  "language_info": {
   "codemirror_mode": {
    "name": "ipython",
    "version": 3
   },
   "file_extension": ".py",
   "mimetype": "text/x-python",
   "name": "python",
   "nbconvert_exporter": "python",
   "pygments_lexer": "ipython3",
   "version": "3.8.2-final"
  },
  "orig_nbformat": 2,
  "kernelspec": {
   "name": "python38232bit3db169014aea48db84573a3599a11904",
   "display_name": "Python 3.8.2 32-bit"
  }
 },
 "nbformat": 4,
 "nbformat_minor": 2
}