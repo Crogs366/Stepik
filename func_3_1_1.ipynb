{
 "cells": [
  {
   "cell_type": "code",
   "execution_count": null,
   "metadata": {},
   "outputs": [],
   "source": [
    "Напишите функцию f(x), которая возвращает значение следующей функции, определённой на всей числовой прямой:\n",
    "\n",
    "f(x)= \n",
    "⎧ (1 - (x + 2) ** 2) , при x ≤ −2\n",
    "⎪\n",
    "⎪ (-x / 2) , при −2 < x ≤ 2\n",
    "⎨\n",
    "⎪\n",
    "⎪ x - 2) ** 2 + 1 , при 2 < x\n",
    "⎩\n",
    "​\t  \n",
    "Требуется реализовать только функцию, решение не должно осуществлять операций ввода-вывода."
   ]
  },
  {
   "cell_type": "code",
   "execution_count": null,
   "metadata": {},
   "outputs": [],
   "source": [
    "def f(x):\n",
    "    if x <= -2:\n",
    "        return(1 - (x + 2) ** 2)\n",
    "    elif -2 < x <= 2:\n",
    "        return(-x / 2)\n",
    "    else:\n",
    "        return((x - 2) ** 2 + 1)"
   ]
  }
 ],
 "metadata": {
  "language_info": {
   "codemirror_mode": {
    "name": "ipython",
    "version": 3
   },
   "file_extension": ".py",
   "mimetype": "text/x-python",
   "name": "python",
   "nbconvert_exporter": "python",
   "pygments_lexer": "ipython3",
   "version": 3
  },
  "orig_nbformat": 2
 },
 "nbformat": 4,
 "nbformat_minor": 2
}