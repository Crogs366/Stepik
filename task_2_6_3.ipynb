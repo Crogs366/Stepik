{
 "cells": [
  {
   "cell_type": "code",
   "execution_count": null,
   "metadata": {},
   "outputs": [],
   "source": [
    "Напишите программу, которая считывает список чисел lstlst из первой строки и число xx из второй строки, которая выводит все позиции, на которых встречается число xx в переданном списке lstlst.\n",
    "\n",
    "Позиции нумеруются с нуля, если число xx не встречается в списке, вывести строку \"Отсутствует\" (без кавычек, с большой буквы).\n",
    "\n",
    "Позиции должны быть выведены в одну строку, по возрастанию абсолютного значения."
   ]
  },
  {
   "cell_type": "code",
   "execution_count": null,
   "metadata": {},
   "outputs": [],
   "source": [
    "list = [int(i) for i in input().split()]\n",
    "a = int(input())\n",
    "count = 0\n",
    "if a in list:\n",
    "    for list[count] in list:\n",
    "        if list[count] == a:\n",
    "            print(count, end=\" \")\n",
    "        count +=1\n",
    "else:\n",
    "    print('Отсутствует')"
   ]
  }
 ],
 "metadata": {
  "language_info": {
   "codemirror_mode": {
    "name": "ipython",
    "version": 3
   },
   "file_extension": ".py",
   "mimetype": "text/x-python",
   "name": "python",
   "nbconvert_exporter": "python",
   "pygments_lexer": "ipython3",
   "version": 3
  },
  "orig_nbformat": 2
 },
 "nbformat": 4,
 "nbformat_minor": 2
}