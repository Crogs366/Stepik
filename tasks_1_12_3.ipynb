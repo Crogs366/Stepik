{
 "cells": [
  {
   "cell_type": "code",
   "execution_count": 1,
   "metadata": {},
   "outputs": [],
   "source": [
    "#Напишите простой калькулятор, который считывает с пользовательского ввода три строки: первое число, второе число и операцию, после чего применяет операцию к введённым числам (\"первое число\" \"операция\" \"второе число\") и выводит результат на экран.\n",
    "\n",
    "#Поддерживаемые операции: +, -, /, *, mod, pow, div, где\n",
    "#mod — это взятие остатка от деления,\n",
    "#pow — возведение в степень,\n",
    "#div — целочисленное деление.\n",
    "\n",
    "#Если выполняется деление и второе число равно 0, необходимо выводить строку \"Деление на 0!\"."
   ]
  },
  {
   "cell_type": "code",
   "execution_count": 2,
   "metadata": {},
   "outputs": [
    {
     "output_type": "stream",
     "name": "stdout",
     "text": "11.0\n"
    }
   ],
   "source": [
    "a = float(input())\n",
    "b = float(input())\n",
    "c = input()\n",
    "if c == '+':\n",
    "    print(a + b)\n",
    "elif c == '-':\n",
    "    print(a - b)\n",
    "elif c == '/':\n",
    "    if b != 0:\n",
    "        print(a / b)\n",
    "    else:\n",
    "        print('Деление на 0!')\n",
    "elif c == '*':\n",
    "    print(a * b)\n",
    "elif c == 'mod':\n",
    "    if b != 0:\n",
    "        print(a % b)\n",
    "    else:\n",
    "        print('Деление на 0!')\n",
    "elif c == 'pow':\n",
    "    print(a ** b)\n",
    "elif c == 'div':\n",
    "    if b != 0:\n",
    "        print(a // b)\n",
    "    else:\n",
    "        print('Деление на 0!')"
   ]
  }
 ],
 "metadata": {
  "language_info": {
   "codemirror_mode": {
    "name": "ipython",
    "version": 3
   },
   "file_extension": ".py",
   "mimetype": "text/x-python",
   "name": "python",
   "nbconvert_exporter": "python",
   "pygments_lexer": "ipython3",
   "version": "3.8.2-final"
  },
  "orig_nbformat": 2,
  "kernelspec": {
   "name": "python38232bit3db169014aea48db84573a3599a11904",
   "display_name": "Python 3.8.2 32-bit"
  }
 },
 "nbformat": 4,
 "nbformat_minor": 2
}