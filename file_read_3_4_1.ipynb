{
 "cells": [
  {
   "cell_type": "code",
   "execution_count": null,
   "metadata": {},
   "outputs": [],
   "source": [
    "#новый рабочий вариант\n",
    "line = 'c2B11a19'\n",
    "figure = '1234567890'\n",
    "count = 0\n",
    "letter = ''\n",
    "number = ''\n",
    "new_line = ''\n",
    "for i in line:\n",
    "    if count == len(line) - 1:\n",
    "        number += i\n",
    "        count += 1 \n",
    "        new_line += str(letter * int(number)) \n",
    "        continue\n",
    "        number = ''\n",
    "    if str(i) in figure and str(line[count+1]) not in figure:\n",
    "        number += i\n",
    "        count += 1 \n",
    "        new_line += str(letter * int(number)) \n",
    "        number = ''\n",
    "    elif str(i) in figure and str(line[count+1]) in figure:\n",
    "        number +=i\n",
    "        count += 1\n",
    "        continue\n",
    "    else: \n",
    "        letter = i\n",
    "        count +=1\n",
    "         "
   ]
  },
  {
   "cell_type": "code",
   "execution_count": 5,
   "metadata": {},
   "outputs": [
    {
     "output_type": "error",
     "ename": "ValueError",
     "evalue": "invalid literal for int() with base 10: '\\n'",
     "traceback": [
      "\u001b[1;31m---------------------------------------------------------------------------\u001b[0m",
      "\u001b[1;31mValueError\u001b[0m                                Traceback (most recent call last)",
      "\u001b[1;32m<ipython-input-5-309004ebda1c>\u001b[0m in \u001b[0;36m<module>\u001b[1;34m\u001b[0m\n\u001b[0;32m     10\u001b[0m         \u001b[0mnumber\u001b[0m \u001b[1;33m+=\u001b[0m \u001b[0mi\u001b[0m\u001b[1;33m\u001b[0m\u001b[1;33m\u001b[0m\u001b[0m\n\u001b[0;32m     11\u001b[0m         \u001b[0mcount\u001b[0m \u001b[1;33m+=\u001b[0m \u001b[1;36m1\u001b[0m\u001b[1;33m\u001b[0m\u001b[1;33m\u001b[0m\u001b[0m\n\u001b[1;32m---> 12\u001b[1;33m         \u001b[0mnew_line\u001b[0m \u001b[1;33m+=\u001b[0m \u001b[0mstr\u001b[0m\u001b[1;33m(\u001b[0m\u001b[0mletter\u001b[0m \u001b[1;33m*\u001b[0m \u001b[0mint\u001b[0m\u001b[1;33m(\u001b[0m\u001b[0mnumber\u001b[0m\u001b[1;33m)\u001b[0m\u001b[1;33m)\u001b[0m\u001b[1;33m\u001b[0m\u001b[1;33m\u001b[0m\u001b[0m\n\u001b[0m\u001b[0;32m     13\u001b[0m         \u001b[1;32mcontinue\u001b[0m\u001b[1;33m\u001b[0m\u001b[1;33m\u001b[0m\u001b[0m\n\u001b[0;32m     14\u001b[0m         \u001b[0mnumber\u001b[0m \u001b[1;33m=\u001b[0m \u001b[1;34m''\u001b[0m\u001b[1;33m\u001b[0m\u001b[1;33m\u001b[0m\u001b[0m\n",
      "\u001b[1;31mValueError\u001b[0m: invalid literal for int() with base 10: '\\n'"
     ]
    }
   ],
   "source": [
    "with open ('text1.txt' , 'r') as inf: #read\n",
    "    line = inf.readline()\n",
    "    figure = '1234567890'\n",
    "    count = 0\n",
    "    letter = ''\n",
    "    number = ''\n",
    "    new_line = ''\n",
    "for i in line:\n",
    "    if count == len(line) - 1: #last element\n",
    "        number += i\n",
    "        count += 1 \n",
    "        new_line += str(letter * int(number)) \n",
    "        continue\n",
    "        number = ''\n",
    "    if str(i) in figure and str(line[count+1]) not in figure:\n",
    "        number += i\n",
    "        count += 1 \n",
    "        new_line += str(letter * int(number)) \n",
    "        number = ''\n",
    "    elif str(i) in figure and str(line[count+1]) in figure:\n",
    "        number +=i\n",
    "        count += 1\n",
    "        continue\n",
    "    else: #letter\n",
    "        letter = i\n",
    "        count +=1\n",
    "    with open('text2.txt', 'w') as ouf: #write\n",
    "        ouf.write(str(new_line))    \n"
   ]
  },
  {
   "cell_type": "code",
   "execution_count": null,
   "metadata": {},
   "outputs": [],
   "source": []
  }
 ],
 "metadata": {
  "language_info": {
   "codemirror_mode": {
    "name": "ipython",
    "version": 3
   },
   "file_extension": ".py",
   "mimetype": "text/x-python",
   "name": "python",
   "nbconvert_exporter": "python",
   "pygments_lexer": "ipython3",
   "version": "3.8.2-final"
  },
  "orig_nbformat": 2,
  "kernelspec": {
   "name": "python38232bit3db169014aea48db84573a3599a11904",
   "display_name": "Python 3.8.2 32-bit"
  }
 },
 "nbformat": 4,
 "nbformat_minor": 2
}