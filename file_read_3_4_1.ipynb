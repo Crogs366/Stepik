{
 "cells": [
  {
   "cell_type": "code",
   "execution_count": 6,
   "metadata": {},
   "outputs": [],
   "source": [
    "#не прошло проверку\n",
    "with open ('text1.txt' , 'r') as inf: #read\n",
    "    aaa = inf.readline()\n",
    "    number = '0123456789'\n",
    "    chislo =''\n",
    "    count = 0\n",
    "    line = ''\n",
    "    for i in aaa: \n",
    "        if count == len(aaa) - 1:\n",
    "            line += new\n",
    "        elif str(aaa[count+1])in number and str(i) in number:\n",
    "            chislo = i + str(aaa[count+1])\n",
    "            line += new * int(chislo)\n",
    "        elif str(i) in number:\n",
    "            chislo = chislo + i\n",
    "            line += new * int(chislo)\n",
    "        else: \n",
    "            new = i\n",
    "        chislo = ''\n",
    "        count += 1\n",
    "    with open('text2.txt', 'w') as ouf: #write\n",
    "        ouf.write(str(line))"
   ]
  },
  {
   "cell_type": "code",
   "execution_count": null,
   "metadata": {},
   "outputs": [],
   "source": [
    "#исходник\n",
    "aaa = 'a3b4c2e10b1'\n",
    "number = '0123456789'\n",
    "chislo =''\n",
    "count = 0\n",
    "line = ''\n",
    "for i in aaa: \n",
    "    if count == len(aaa) - 1:\n",
    "        line += new\n",
    "    elif str(aaa[count+1])in number and str(i) in number:\n",
    "        chislo = i + str(aaa[count+1])\n",
    "        line += new * int(chislo)\n",
    "    elif str(i) in number:\n",
    "        chislo = chislo + i\n",
    "        line += new * int(chislo)\n",
    "    else: \n",
    "        new = i\n",
    "    chislo = ''\n",
    "    count += 1\n",
    "print(line)"
   ]
  }
 ],
 "metadata": {
  "language_info": {
   "codemirror_mode": {
    "name": "ipython",
    "version": 3
   },
   "file_extension": ".py",
   "mimetype": "text/x-python",
   "name": "python",
   "nbconvert_exporter": "python",
   "pygments_lexer": "ipython3",
   "version": "3.8.2-final"
  },
  "orig_nbformat": 2,
  "kernelspec": {
   "name": "python38232bit3db169014aea48db84573a3599a11904",
   "display_name": "Python 3.8.2 32-bit"
  }
 },
 "nbformat": 4,
 "nbformat_minor": 2
}